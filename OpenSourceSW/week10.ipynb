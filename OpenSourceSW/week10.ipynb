{
 "cells": [
  {
   "cell_type": "code",
   "execution_count": 1,
   "id": "31ec81fa",
   "metadata": {},
   "outputs": [
    {
     "name": "stdout",
     "output_type": "stream",
     "text": [
      "456\n",
      "456\n"
     ]
    }
   ],
   "source": [
    "number =\"10 456 87 78\"\n",
    "num_list=(number.split())\n",
    "num2_list=[]\n",
    "for x in num_list:\n",
    "    num2_list.append(int(x))\n",
    "print(max(num2_list))\n",
    "Temp=0\n",
    "for i in num2_list:\n",
    "    if Temp==0 or i>Temp:\n",
    "        Temp=i\n",
    "print(Temp)#최대값 구현"
   ]
  },
  {
   "cell_type": "code",
   "execution_count": null,
   "id": "27e3d1e1",
   "metadata": {},
   "outputs": [
    {
     "name": "stdout",
     "output_type": "stream",
     "text": [
      "문자열을 입력하세요abc def\n",
      "암호화는 0번 복호화는 1번을 눌러주세요0\n",
      "['abc', 'def']\n",
      "['def', 'abc']\n",
      "efg bcd  \n",
      "문자열을 입력하세요efg bcd\n",
      "암호화는 0번 복호화는 1번을 눌러주세요1\n",
      "['efg', 'bcd']\n",
      "['bcd', 'efg']\n",
      "abc def  \n"
     ]
    }
   ],
   "source": [
    "while(1):\n",
    "    strs=input(\"문자열을 입력하세요\")\n",
    "    \n",
    "    button=int(input(\"암호화는 0번 복호화는 1번을 눌러주세요\"))\n",
    "    a=[]\n",
    "   \n",
    "    a=strs.split()\n",
    "    length=len(a)\n",
    "    new=[]\n",
    "    ####리스트에 0담기\n",
    "    for i in range(length):\n",
    "        new.append(0)\n",
    "\n",
    "    detlength=[]\n",
    "    a.reverse()\n",
    "\n",
    "    for i in range(length):\n",
    "        detlength.append(len(a[i]))\n",
    "       \n",
    "    if (button==0):\n",
    "       for j in range(length):\n",
    "           \n",
    "           for k in range(detlength[i]):\n",
    "               if k==0:\n",
    "                   new[j]=chr(ord(a[j][k])+1)\n",
    "               else:\n",
    "                   new[j]=new[j]+chr(ord(a[j][k])+1)#얘를 아스키코드 1씩증가시켜 \n",
    "\n",
    "               \n",
    "            \n",
    "           print(new[j]+\" \",end='')        \n",
    "       print(\" \")\n",
    "    elif(button==1):\n",
    "        for j in range(length):\n",
    "               \n",
    "           for k in range(detlength[i]):\n",
    "               if k==0:\n",
    "                   new[j]=chr(ord(a[j][k])-1)\n",
    "               else:\n",
    "                   new[j]=new[j]+chr(ord(a[j][k])-1)#얘를 아스키코드 1씩감소시켜 \n",
    "               \n",
    "            \n",
    "           print(new[j]+\" \",end='')        \n",
    "        print(\" \")\n",
    "    else :\n",
    "        print(\"다시 입력하세요\")\n",
    "        continue\n"
   ]
  },
  {
   "cell_type": "code",
   "execution_count": null,
   "id": "af877be7",
   "metadata": {},
   "outputs": [
    {
     "name": "stdout",
     "output_type": "stream",
     "text": [
      "이름입력하세요:asd\n",
      "번호입력하세요:123\n",
      "계속하시려면 a을 눌러주세요a\n",
      "이름입력하세요:afg\n",
      "번호입력하세요:134\n",
      "계속하시려면 a을 눌러주세요s\n",
      "dict_items([('123', 'asd'), ('134', 'afg')])\n",
      "이름으로 찾으시려면 1번 번호로찾으시려면 2번을 누르시오(다른 사람추가원하시면 아무키나 누르시오)2\n",
      "찾을번호를 쓰시오:123\n",
      "찾으시는 이름은asd입니다.\n"
     ]
    }
   ],
   "source": [
    "p_n=dict()\n",
    "reverse=dict()\n",
    "while(1):\n",
    "    button='a'\n",
    "    \n",
    "    while(button=='a'):#입력부분\n",
    "        name=input(\"이름입력하세요:\")\n",
    "        number=input(\"번호입력하세요:\")\n",
    "        p_n[name]=number\n",
    "        button=input(\"계속하시려면 a을 눌러주세요\")\n",
    "    \n",
    "    reverse={value:key for key,value in p_n.items()}#key와 value값 바꿔줌 value값으로 검색하기 위해\n",
    "    \n",
    "    while(1):#검색부분\n",
    "        q=int(input(\"이름으로 찾으시려면 1번 번호로찾으시려면 2번을 누르시오(다른 사람추가원하시면 아무키나 누르시오)\"))\n",
    "        if(q==1):\n",
    "            find=input(\"찾을번호 이름을 쓰시오:\")\n",
    "            print(\"찾으시는 번호는\"+p_n.get(find)+\"입니다.\")\n",
    "        elif(q==2):\n",
    "            find=input(\"찾을번호를 쓰시오:\")\n",
    "            print(\"찾으시는 이름은\"+reverse.get(find)+\"입니다.\")\n",
    "        else:\n",
    "            break#break시 다시 입력부분으로 돌아감"
   ]
  },
  {
   "cell_type": "code",
   "execution_count": null,
   "id": "de281b53",
   "metadata": {},
   "outputs": [],
   "source": []
  }
 ],
 "metadata": {
  "kernelspec": {
   "display_name": "Python 3",
   "language": "python",
   "name": "python3"
  },
  "language_info": {
   "codemirror_mode": {
    "name": "ipython",
    "version": 3
   },
   "file_extension": ".py",
   "mimetype": "text/x-python",
   "name": "python",
   "nbconvert_exporter": "python",
   "pygments_lexer": "ipython3",
   "version": "3.8.1"
  }
 },
 "nbformat": 4,
 "nbformat_minor": 5
}
