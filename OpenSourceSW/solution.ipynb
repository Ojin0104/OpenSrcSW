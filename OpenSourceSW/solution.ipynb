{
 "cells": [
  {
   "cell_type": "code",
   "execution_count": 9,
   "id": "42ab886d",
   "metadata": {},
   "outputs": [
    {
     "name": "stdout",
     "output_type": "stream",
     "text": [
      "(1,2)\n",
      "(3,4)\n",
      "(4,6)\n"
     ]
    }
   ],
   "source": [
    "class Point:\n",
    "    \n",
    "    def __init__(self,x,y):\n",
    "        self.x=x\n",
    "        self.y=y\n",
    "    def show(self):\n",
    "        print(\"(\"+str(self.x)+\",\"+str(self.y)+\")\")\n",
    "    def __add__(self,other):\n",
    "        return Point(self.x+other.x,self.y+other.y)\n",
    "a=Point(1,2)\n",
    "a.show()\n",
    "\n",
    "b=Point(3,4)\n",
    "b.show()\n",
    "\n",
    "a=a+b\n",
    "a.show()\n",
    "\n",
    "\n",
    "    "
   ]
  },
  {
   "cell_type": "code",
   "execution_count": 28,
   "id": "fc25b73b",
   "metadata": {},
   "outputs": [
    {
     "name": "stdout",
     "output_type": "stream",
     "text": [
      "Max Week=5/8~5/14\n"
     ]
    }
   ],
   "source": [
    "import csv\n",
    "f=open('seoul.csv')\n",
    "data=csv.reader(f)\n",
    "next(data)\n",
    "max_dif=0\n",
    "start_date=0\n",
    "end_date=0\n",
    "difsum=0\n",
    "i=0\n",
    "for row in data:\n",
    "    row[-1]=float(row[-1])#float형으로 바꿔서\n",
    "    row[-2]=float(row[-2])\n",
    "    difsum+=row[-1]-row[-2]#일교차차이더해줌\n",
    "    i+=1\n",
    "    if(i==7):#일주일마다니깐 i가 7이될때마다 더해준값의 최대값구하고 그떄의 날짜구함\n",
    "        i=0\n",
    "        if(max_dif<difsum):\n",
    "            \n",
    "            end_date=row[0]\n",
    "            max_dif=difsum\n",
    "        difsum=0\n",
    "f.close()\n",
    "start_date=end_date[6:7]+\"/\"+str(int(end_date[8:10])-6)\n",
    "end_date=end_date[6:7]+\"/\"+end_date[8:10]\n",
    "print(\"Max Week\"+\"=\"+start_date+\"~\"+end_date)"
   ]
  },
  {
   "cell_type": "code",
   "execution_count": 25,
   "id": "7c49ecd9",
   "metadata": {},
   "outputs": [
    {
     "data": {
      "text/plain": [
       "891011121314"
      ]
     },
     "execution_count": 25,
     "metadata": {},
     "output_type": "execute_result"
    }
   ],
   "source": [
    "1234567\n",
    "891011121314"
   ]
  },
  {
   "cell_type": "code",
   "execution_count": null,
   "id": "6e6f8902",
   "metadata": {},
   "outputs": [],
   "source": []
  }
 ],
 "metadata": {
  "kernelspec": {
   "display_name": "Python 3",
   "language": "python",
   "name": "python3"
  },
  "language_info": {
   "codemirror_mode": {
    "name": "ipython",
    "version": 3
   },
   "file_extension": ".py",
   "mimetype": "text/x-python",
   "name": "python",
   "nbconvert_exporter": "python",
   "pygments_lexer": "ipython3",
   "version": "3.8.1"
  }
 },
 "nbformat": 4,
 "nbformat_minor": 5
}
