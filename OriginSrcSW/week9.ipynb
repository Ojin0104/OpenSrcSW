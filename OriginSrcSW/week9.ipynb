{
 "cells": [
  {
   "cell_type": "code",
   "execution_count": 1,
   "id": "78eebaa7",
   "metadata": {},
   "outputs": [
    {
     "name": "stdout",
     "output_type": "stream",
     "text": [
      "y= 21\n"
     ]
    }
   ],
   "source": [
    "x=4\n",
    "y=3*x^2+5*x+3\n",
    "print(\"y=\",y)"
   ]
  },
  {
   "cell_type": "code",
   "execution_count": 2,
   "id": "fb95cfa2",
   "metadata": {},
   "outputs": [
    {
     "name": "stdout",
     "output_type": "stream",
     "text": [
      "길이:  18.84\n",
      "넓이:  28.259999999999998\n"
     ]
    }
   ],
   "source": [
    "r=3\n",
    "pi=3.14\n",
    "l=2*pi*r\n",
    "a=r*l/2\n",
    "print(\"길이: \",l)\n",
    "print(\"넓이: \",a)"
   ]
  },
  {
   "cell_type": "code",
   "execution_count": null,
   "id": "28e648f3",
   "metadata": {},
   "outputs": [],
   "source": []
  }
 ],
 "metadata": {
  "kernelspec": {
   "display_name": "Python 3",
   "language": "python",
   "name": "python3"
  },
  "language_info": {
   "codemirror_mode": {
    "name": "ipython",
    "version": 3
   },
   "file_extension": ".py",
   "mimetype": "text/x-python",
   "name": "python",
   "nbconvert_exporter": "python",
   "pygments_lexer": "ipython3",
   "version": "3.8.1"
  }
 },
 "nbformat": 4,
 "nbformat_minor": 5
}
